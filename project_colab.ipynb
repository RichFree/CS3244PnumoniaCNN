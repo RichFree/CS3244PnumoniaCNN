{
  "nbformat": 4,
  "nbformat_minor": 0,
  "metadata": {
    "kernelspec": {
      "name": "python3",
      "display_name": "Python 3"
    },
    "language_info": {
      "codemirror_mode": {
        "name": "ipython",
        "version": 3
      },
      "file_extension": ".py",
      "mimetype": "text/x-python",
      "name": "python",
      "nbconvert_exporter": "python",
      "pygments_lexer": "ipython3",
      "version": "3.7.6"
    },
    "colab": {
      "name": "project.ipynb",
      "provenance": [],
      "collapsed_sections": [
        "QT63YRWo-3fG",
        "ggpTFMvW-3fS",
        "_GRpJnHN-3fU",
        "HycetaF5-3fY",
        "Hj900pHd-3fc",
        "Btd4ZkG7-3f0"
      ],
      "include_colab_link": true
    },
    "accelerator": "GPU"
  },
  "cells": [
    {
      "cell_type": "markdown",
      "metadata": {
        "id": "view-in-github",
        "colab_type": "text"
      },
      "source": [
        "<a href=\"https://colab.research.google.com/github/RichFree/CS3244PnumoniaCNN/blob/master/project_colab.ipynb\" target=\"_parent\"><img src=\"https://colab.research.google.com/assets/colab-badge.svg\" alt=\"Open In Colab\"/></a>"
      ]
    },
    {
      "cell_type": "markdown",
      "metadata": {
        "id": "CDnrGtIB-3d3",
        "colab_type": "text"
      },
      "source": [
        "ORIGINAL DATA SOURCE:\n",
        "\n",
        "The dataset contains 2 folders, test, train\n",
        "- chest-xray\n",
        "    - test - 624\n",
        "        - NORMAL - 234\n",
        "        - PNEUMONIA - 390\n",
        "    - train - 5216\n",
        "        - NORMAL - 1341\n",
        "        - PNEUMONIA - 3875\n",
        "\n",
        "And a total of 5216 images.\n",
        "\n",
        "Acknowledgements This Dataset is taken from : https://www.kaggle.com/paultimothymooney/chest-xray-pneumonia"
      ]
    },
    {
      "cell_type": "markdown",
      "metadata": {
        "id": "aMZtLvriyHuT",
        "colab_type": "text"
      },
      "source": [
        "# Runtime selection\n",
        "\n",
        "- run the cell below in your first run\n",
        "- click runtime, change runtime type, select Python 3 and GPU\n",
        "- click runtime, restart runtime\n",
        "\n",
        "Why use TF 1.x? \n",
        "- Tensorflow 2.2 has some unspecified bugs in the fit function when training model\n",
        "- tensorflow 1.15.2 runs our functions close enough to tensorflow 2.1.0\n",
        "\n",
        "\n"
      ]
    },
    {
      "cell_type": "code",
      "metadata": {
        "id": "t26Wa4N2dyqp",
        "colab_type": "code",
        "outputId": "a74ed2f5-0510-48b4-84cd-955a6470a868",
        "colab": {
          "base_uri": "https://localhost:8080/",
          "height": 51
        }
      },
      "source": [
        "# Restart runtime using 'Runtime' -> 'Restart runtime...'\n",
        "%tensorflow_version 1.x\n",
        "import tensorflow as tf\n",
        "print(tf.__version__)"
      ],
      "execution_count": 0,
      "outputs": [
        {
          "output_type": "stream",
          "text": [
            "TensorFlow 1.x selected.\n",
            "1.15.2\n"
          ],
          "name": "stdout"
        }
      ]
    },
    {
      "cell_type": "markdown",
      "metadata": {
        "id": "EUrN8QsYyekB",
        "colab_type": "text"
      },
      "source": [
        "# Import"
      ]
    },
    {
      "cell_type": "code",
      "metadata": {
        "id": "B3pzyIPV-3d4",
        "colab_type": "code",
        "outputId": "010b8a37-8900-4265-8337-5bcb38f51de2",
        "colab": {
          "base_uri": "https://localhost:8080/",
          "height": 51
        }
      },
      "source": [
        "import os\n",
        "import pandas as pd\n",
        "import numpy as np\n",
        "import seaborn as sns\n",
        "import matplotlib.pyplot as plt\n",
        "from matplotlib.image import imread \n",
        "# %matplotlib inline # Technically not necessary in newest versions of jupyter\n",
        "\n",
        "# this portion is necessary because of large data sizes\n",
        "# https://stackoverflow.com/questions/48610132/tensorflow-crash-with-cudnn-status-alloc-failed\n",
        "import tensorflow as tf\n",
        "gpus = tf.config.experimental.list_physical_devices('GPU')\n",
        "if gpus:\n",
        "  try:\n",
        "    tf.config.experimental.set_virtual_device_configuration(gpus[0], [tf.config.experimental.VirtualDeviceConfiguration(memory_limit=2048)])\n",
        "  except RuntimeError as e:\n",
        "    print(e)"
      ],
      "execution_count": 0,
      "outputs": [
        {
          "output_type": "stream",
          "text": [
            "/usr/local/lib/python3.6/dist-packages/statsmodels/tools/_testing.py:19: FutureWarning: pandas.util.testing is deprecated. Use the functions in the public API at pandas.testing instead.\n",
            "  import pandas.util.testing as tm\n"
          ],
          "name": "stderr"
        }
      ]
    },
    {
      "cell_type": "code",
      "metadata": {
        "id": "P6_Op3rarSCr",
        "colab_type": "code",
        "outputId": "0596cb71-ec81-4268-a72c-1b0c43ec8a02",
        "colab": {
          "base_uri": "https://localhost:8080/",
          "height": 34
        }
      },
      "source": [
        "tf.__version__"
      ],
      "execution_count": 0,
      "outputs": [
        {
          "output_type": "execute_result",
          "data": {
            "text/plain": [
              "'1.15.2'"
            ]
          },
          "metadata": {
            "tags": []
          },
          "execution_count": 4
        }
      ]
    },
    {
      "cell_type": "markdown",
      "metadata": {
        "id": "9mhlbkzEvtRA",
        "colab_type": "text"
      },
      "source": [
        "# Mount Google Drive\n",
        "\n",
        "Below is how we import files to Google drive. \n",
        "Guide:https://stackoverflow.com/questions/48376580/google-colab-how-to-read-data-from-my-google-drive\n",
        "\n",
        "1. Mount your drive using the cell below - sign in with your google drive account\n",
        "2. set the directory to the folder according to your folder path\n",
        "\n",
        "## Ideas: \n",
        "\n",
        "- There are 2 suggestions: \n",
        "  - mount a folder in your gdrive, which you have to upload manually\n",
        "  - import a tar file to the colab drive, then unzip from there\n",
        "\n",
        "Both method instructions are available in the stackoverflow\n",
        "\n",
        "\n"
      ]
    },
    {
      "cell_type": "code",
      "metadata": {
        "id": "E-PhirL5uGMy",
        "colab_type": "code",
        "outputId": "1cfea380-7559-49da-e363-b0fdead12a73",
        "colab": {
          "base_uri": "https://localhost:8080/",
          "height": 34
        }
      },
      "source": [
        "from google.colab import drive\n",
        "drive.mount('/gdrive')"
      ],
      "execution_count": 108,
      "outputs": [
        {
          "output_type": "stream",
          "text": [
            "Drive already mounted at /gdrive; to attempt to forcibly remount, call drive.mount(\"/gdrive\", force_remount=True).\n"
          ],
          "name": "stdout"
        }
      ]
    },
    {
      "cell_type": "markdown",
      "metadata": {
        "id": "xPIcSA4o-3d8",
        "colab_type": "text"
      },
      "source": [
        "## Data Folder download and directory change\n",
        "\n",
        "- chest_xray folder link: https://drive.google.com/drive/folders/1wPG9qwrz3YyQUUbwMq7ccVCAPmY-_9AN?usp=sharing\n",
        "- get the folder chest_xray from the above link, then paste in a directory you remember in your google drive\n",
        "- Replace the directory below with where you put your data\n",
        "- Please include and stop at the folder \"chest_xray\"\n",
        "\n",
        "\n",
        "## Useful commands\n",
        "- !ls '/gdrive' \n",
        "  - list the directories in your drive\n",
        "- !cd '/gdrive/My drive/...'\n",
        "  - change directory \n",
        "\n",
        "How to get the path of your chest_xray folder? \n",
        "- !ls to find which directories you can access from /gdrive\n",
        "- !cd to the parent directory of chest_xray\n",
        "- repeat until you reach \"chest_xray\"\n"
      ]
    },
    {
      "cell_type": "code",
      "metadata": {
        "id": "8_HS7E0z-imo",
        "colab_type": "code",
        "colab": {
          "base_uri": "https://localhost:8080/",
          "height": 68
        },
        "outputId": "8ecc2a66-d1f1-4b44-db1e-4d18dbecf7af"
      },
      "source": [
        "# your google drive overview\n",
        "!ls '/gdrive/My Drive'"
      ],
      "execution_count": 110,
      "outputs": [
        {
          "output_type": "stream",
          "text": [
            "'1. Life'\t'4. Computing'\t   '6. Modules'        Notability\n",
            "'2. Education'\t'4. Spiritual'\t   '7. Projects'       Sharing\n",
            "'3. Soul'\t'5. Organisation'  'Colab Notebooks'\n"
          ],
          "name": "stdout"
        }
      ]
    },
    {
      "cell_type": "code",
      "metadata": {
        "id": "JcAjZZ4n-3d8",
        "colab_type": "code",
        "colab": {}
      },
      "source": [
        "my_data_dir = '/gdrive/My Drive/7. Projects/CS3244/chest_xray'"
      ],
      "execution_count": 0,
      "outputs": []
    },
    {
      "cell_type": "code",
      "metadata": {
        "id": "YzujYaco-3d_",
        "colab_type": "code",
        "colab": {}
      },
      "source": [
        "# CONFIRM THAT THIS REPORTS BACK 'test', and 'train'\n",
        "# should return: ['test', 'train']\n",
        "os.listdir(my_data_dir) "
      ],
      "execution_count": 0,
      "outputs": []
    },
    {
      "cell_type": "code",
      "metadata": {
        "id": "xBhTepTS-3eE",
        "colab_type": "code",
        "colab": {}
      },
      "source": [
        "test_path = my_data_dir+'/test/'\n",
        "train_path = my_data_dir+'/train/'"
      ],
      "execution_count": 0,
      "outputs": []
    },
    {
      "cell_type": "code",
      "metadata": {
        "id": "bVmPndDk-3eH",
        "colab_type": "code",
        "colab": {}
      },
      "source": [
        "os.listdir(test_path) # test path"
      ],
      "execution_count": 0,
      "outputs": []
    },
    {
      "cell_type": "code",
      "metadata": {
        "id": "JFezqpXx-3eK",
        "colab_type": "code",
        "colab": {}
      },
      "source": [
        "os.listdir(train_path) # train path"
      ],
      "execution_count": 0,
      "outputs": []
    },
    {
      "cell_type": "markdown",
      "metadata": {
        "id": "CibrIqJ5-3eM",
        "colab_type": "text"
      },
      "source": [
        "# Data Visualisation"
      ]
    },
    {
      "cell_type": "markdown",
      "metadata": {
        "id": "TliwXipf-3eN",
        "colab_type": "text"
      },
      "source": [
        "you can read in image data and preview images  \n",
        "\n",
        "**Below is a preview of a pneumonia example**"
      ]
    },
    {
      "cell_type": "code",
      "metadata": {
        "id": "drmKbJa2-3eO",
        "colab_type": "code",
        "colab": {}
      },
      "source": [
        "os.listdir(train_path+'/PNEUMONIA')[0]"
      ],
      "execution_count": 0,
      "outputs": []
    },
    {
      "cell_type": "markdown",
      "metadata": {
        "id": "NrcWpOqu-3eR",
        "colab_type": "text"
      },
      "source": [
        "try to see what a picture looks like"
      ]
    },
    {
      "cell_type": "code",
      "metadata": {
        "id": "KCtCW_yb-3eR",
        "colab_type": "code",
        "colab": {}
      },
      "source": [
        "pnu_patient = train_path+'/PNEUMONIA'+'/person1000_bacteria_2931.jpeg'\n",
        "pnu_img= imread(pnu_patient)\n",
        "plt.imshow(pnu_img)"
      ],
      "execution_count": 0,
      "outputs": []
    },
    {
      "cell_type": "code",
      "metadata": {
        "id": "WaNlqrZ_-3eU",
        "colab_type": "code",
        "colab": {}
      },
      "source": [
        "pnu_img.shape # resolution of image"
      ],
      "execution_count": 0,
      "outputs": []
    },
    {
      "cell_type": "markdown",
      "metadata": {
        "id": "gvlK1-aE-3eW",
        "colab_type": "text"
      },
      "source": [
        "dimensions: 760 vertical, 1152 horizontal, 1 colour channel"
      ]
    },
    {
      "cell_type": "markdown",
      "metadata": {
        "id": "AswHJqT5-3eX",
        "colab_type": "text"
      },
      "source": [
        "**Below is an example of a Normal patient**"
      ]
    },
    {
      "cell_type": "code",
      "metadata": {
        "id": "FNDuob7V-3eY",
        "colab_type": "code",
        "colab": {}
      },
      "source": [
        "norm_patient = train_path+'/NORMAL/'+os.listdir(train_path+'/NORMAL')[53]\n",
        "norm_img = imread(norm_patient)\n",
        "plt.imshow(norm_img)"
      ],
      "execution_count": 0,
      "outputs": []
    },
    {
      "cell_type": "markdown",
      "metadata": {
        "id": "xk2F0I5t-3eb",
        "colab_type": "text"
      },
      "source": [
        "how many images are there?"
      ]
    },
    {
      "cell_type": "code",
      "metadata": {
        "id": "jEi7k0fp-3ec",
        "colab_type": "code",
        "colab": {}
      },
      "source": [
        "len(os.listdir(train_path+'/PNEUMONIA'))"
      ],
      "execution_count": 0,
      "outputs": []
    },
    {
      "cell_type": "code",
      "metadata": {
        "id": "bbCWbAvz-3ee",
        "colab_type": "code",
        "colab": {}
      },
      "source": [
        "len(os.listdir(train_path+'/NORMAL'))"
      ],
      "execution_count": 0,
      "outputs": []
    },
    {
      "cell_type": "markdown",
      "metadata": {
        "id": "PPUkWKIw-3eh",
        "colab_type": "text"
      },
      "source": [
        "**what is the average dimensions of the images?**"
      ]
    },
    {
      "cell_type": "code",
      "metadata": {
        "id": "feUYdegP-3eh",
        "colab_type": "code",
        "colab": {}
      },
      "source": [
        "# Other options: https://stackoverflow.com/questions/1507084/how-to-check-dimensions-of-all-images-in-a-directory-using-python\n",
        "dim1 = []\n",
        "dim2 = []\n",
        "for image_filename in os.listdir(test_path+'/NORMAL'):\n",
        "    \n",
        "    img = imread(test_path+'/NORMAL'+'/'+image_filename)\n",
        "    d1,d2 = img.shape\n",
        "    dim1.append(d1)\n",
        "    dim2.append(d2)"
      ],
      "execution_count": 0,
      "outputs": []
    },
    {
      "cell_type": "code",
      "metadata": {
        "id": "3X0s2ESe-3ej",
        "colab_type": "code",
        "colab": {}
      },
      "source": [
        "sns.jointplot(dim1,dim2)"
      ],
      "execution_count": 0,
      "outputs": []
    },
    {
      "cell_type": "code",
      "metadata": {
        "id": "8kmDvZW4-3em",
        "colab_type": "code",
        "colab": {}
      },
      "source": [
        "np.mean(dim1)"
      ],
      "execution_count": 0,
      "outputs": []
    },
    {
      "cell_type": "code",
      "metadata": {
        "id": "EGmo5RPX-3eo",
        "colab_type": "code",
        "colab": {}
      },
      "source": [
        "np.mean(dim2)"
      ],
      "execution_count": 0,
      "outputs": []
    },
    {
      "cell_type": "code",
      "metadata": {
        "id": "edtXSWS6-3es",
        "colab_type": "code",
        "colab": {}
      },
      "source": [
        "image_shape = (64,64,1)"
      ],
      "execution_count": 0,
      "outputs": []
    },
    {
      "cell_type": "markdown",
      "metadata": {
        "id": "KWy8CRH9-3eu",
        "colab_type": "text"
      },
      "source": [
        "Note: \n",
        "- I used 64x64 resolution because average resolution is still too high\n",
        "- isn't the data black and white? shouldn't it be 1 channel? is there a way to make it 1 channel and raise resolution? "
      ]
    },
    {
      "cell_type": "markdown",
      "metadata": {
        "id": "Vj7Nd4gQ-3eu",
        "colab_type": "text"
      },
      "source": [
        "# Preparing the Data for the model\n",
        "There is too much data for us to read all at once in memory. We can use some built in functions in Keras to automatically process the data, generate a flow of batches from a directory, and also manipulate the images.\n",
        "\n",
        "## Image Manipulation\n",
        "Its usually a good idea to manipulate the images with rotation, resizing, and scaling so the model becomes more robust to different images that our data set doesn't have. We can use the ImageDataGenerator to do this automatically for us. Check out the documentation for a full list of all the parameters you can use here!"
      ]
    },
    {
      "cell_type": "code",
      "metadata": {
        "id": "GoBbTOuy-3eu",
        "colab_type": "code",
        "colab": {}
      },
      "source": [
        "from tensorflow.keras.preprocessing.image import ImageDataGenerator"
      ],
      "execution_count": 0,
      "outputs": []
    },
    {
      "cell_type": "code",
      "metadata": {
        "id": "4AuVwU8e-3ey",
        "colab_type": "code",
        "colab": {}
      },
      "source": [
        "# using settings from 03\n",
        "train_datagen = ImageDataGenerator(rotation_range=5, # rotate the image 20 degrees\n",
        "                               width_shift_range=0.10, # Shift the pic width by a max of 5%\n",
        "                               height_shift_range=0.10, # Shift the pic height by a max of 5%\n",
        "                               rescale=1/255, # Rescale the image by normalizing it.\n",
        "                               shear_range=0.1, # Shear means cutting away part of the image (max 10%)\n",
        "                               zoom_range=0.1, # Zoom in by 10% max\n",
        "                               horizontal_flip=True, # Allow horizontal flipping\n",
        "                               fill_mode='nearest' # Fill in missing pixels with the nearest filled value\n",
        "                              )\n",
        "test_datagen = ImageDataGenerator(rescale = 1./255)  #Image normalization."
      ],
      "execution_count": 0,
      "outputs": []
    },
    {
      "cell_type": "code",
      "metadata": {
        "id": "Na0Qqi1l-3e0",
        "colab_type": "code",
        "colab": {}
      },
      "source": [
        "imread(pnu_patient).max() #why we need to rescale to [0,1]"
      ],
      "execution_count": 0,
      "outputs": []
    },
    {
      "cell_type": "code",
      "metadata": {
        "id": "WILEvaZC3c_f",
        "colab_type": "code",
        "colab": {}
      },
      "source": [
        "batch_sz = 32"
      ],
      "execution_count": 0,
      "outputs": []
    },
    {
      "cell_type": "code",
      "metadata": {
        "id": "U-n_XIO3-3e3",
        "colab_type": "code",
        "colab": {}
      },
      "source": [
        "# we create the training and test set data with the transformations specified above\n",
        "training_set = train_datagen.flow_from_directory(train_path,\n",
        "                                                 target_size = image_shape[:2],\n",
        "                                                 batch_size = batch_sz,\n",
        "                                                 color_mode = 'grayscale',\n",
        "                                                 class_mode = 'binary')\n",
        "test_set = test_datagen.flow_from_directory(test_path,\n",
        "                                            target_size = image_shape[:2],\n",
        "                                            batch_size = batch_sz,\n",
        "                                            color_mode = 'grayscale',\n",
        "                                            class_mode = 'binary',\n",
        "                                            shuffle=False)"
      ],
      "execution_count": 0,
      "outputs": []
    },
    {
      "cell_type": "markdown",
      "metadata": {
        "id": "6fuv_32l-3e6",
        "colab_type": "text"
      },
      "source": [
        "# Training"
      ]
    },
    {
      "cell_type": "code",
      "metadata": {
        "id": "v6A1Qexm-3e6",
        "colab_type": "code",
        "colab": {}
      },
      "source": [
        "from tensorflow.keras.models import Sequential\n",
        "from tensorflow.keras.layers import Activation, Dropout, Flatten, Dense, Conv2D, MaxPooling2D"
      ],
      "execution_count": 0,
      "outputs": []
    },
    {
      "cell_type": "code",
      "metadata": {
        "id": "WMHFATdv-3e8",
        "colab_type": "code",
        "colab": {}
      },
      "source": [
        "# CNN model from: \n",
        "# https://www.kaggle.com/sanwal092/intro-to-cnn-using-keras-to-predict-pneumonia\n",
        "\n",
        "cnn = Sequential() # from now, cnn is the name of the model\n",
        "\n",
        "#Convolution\n",
        "cnn.add(Conv2D(32, (3, 3), activation=\"relu\", input_shape=(64, 64, 1)))\n",
        "\n",
        "#Pooling\n",
        "cnn.add(MaxPooling2D(pool_size = (2, 2)))\n",
        "\n",
        "# 2nd Convolution\n",
        "cnn.add(Conv2D(32, (3, 3), activation=\"relu\"))\n",
        "\n",
        "# 2nd Pooling layer\n",
        "cnn.add(MaxPooling2D(pool_size = (2, 2)))\n",
        "\n",
        "# Flatten the layer\n",
        "cnn.add(Flatten())\n",
        "\n",
        "# Fully Connected Layers\n",
        "cnn.add(Dense(activation = 'relu', units = 128))\n",
        "cnn.add(Dense(activation = 'sigmoid', units = 1))\n",
        "\n",
        "# Compile the Neural network\n",
        "cnn.compile(optimizer = 'adam', loss = 'binary_crossentropy', metrics = ['accuracy'])"
      ],
      "execution_count": 0,
      "outputs": []
    },
    {
      "cell_type": "code",
      "metadata": {
        "id": "TaU2y2O8-3e_",
        "colab_type": "code",
        "colab": {}
      },
      "source": [
        "# configuring early stopping\n",
        "from tensorflow.keras.callbacks import EarlyStopping \n",
        "early_stop = EarlyStopping(monitor='val_loss',patience=2)"
      ],
      "execution_count": 0,
      "outputs": []
    },
    {
      "cell_type": "code",
      "metadata": {
        "id": "gkaWNdZX-3fC",
        "colab_type": "code",
        "colab": {}
      },
      "source": [
        "# actual training\n",
        "# fit_generator supported in TF 2.0.x, depracated in TF 2.1.x\n",
        "cnn_model = cnn.fit_generator(training_set,\n",
        "                    epochs = 20,\n",
        "                    verbose = 1,\n",
        "                    validation_data = test_set, \n",
        "                    # steps_per_epoch = 326, # steps_per_epoch should ideally be no. total samples / batch size, \n",
        "                    # e.g. 5216 = 16*326 or 5216 = 32 * 163\n",
        "                    callbacks=[early_stop])"
      ],
      "execution_count": 0,
      "outputs": []
    },
    {
      "cell_type": "code",
      "metadata": {
        "id": "Y9nOHGhI-3fE",
        "colab_type": "code",
        "colab": {}
      },
      "source": [
        "# saving the model\n",
        "# note: only uncomment if training on your computer for the first time!\n",
        "\n",
        "#from tensorflow.keras.models import load_model\n",
        "#cnn.save('pneumonia.h5') \n"
      ],
      "execution_count": 0,
      "outputs": []
    },
    {
      "cell_type": "markdown",
      "metadata": {
        "id": "QT63YRWo-3fG",
        "colab_type": "text"
      },
      "source": [
        "# Evaluation"
      ]
    },
    {
      "cell_type": "code",
      "metadata": {
        "id": "w1whVINX-3fG",
        "colab_type": "code",
        "colab": {}
      },
      "source": [
        "losses = pd.DataFrame(cnn.history.history)"
      ],
      "execution_count": 0,
      "outputs": []
    },
    {
      "cell_type": "code",
      "metadata": {
        "id": "BsqHm7zM-3fI",
        "colab_type": "code",
        "colab": {}
      },
      "source": [
        "losses"
      ],
      "execution_count": 0,
      "outputs": []
    },
    {
      "cell_type": "markdown",
      "metadata": {
        "id": "wj0oZLst-3fL",
        "colab_type": "text"
      },
      "source": [
        "- loss is train loss from the training_set\n",
        "- val_loss is the test loss from the test_set"
      ]
    },
    {
      "cell_type": "code",
      "metadata": {
        "id": "hM8Dwwqo-3fL",
        "colab_type": "code",
        "colab": {}
      },
      "source": [
        "losses[['loss','val_loss']].plot()"
      ],
      "execution_count": 0,
      "outputs": []
    },
    {
      "cell_type": "code",
      "metadata": {
        "id": "V6vP3Qe1-3fN",
        "colab_type": "code",
        "colab": {}
      },
      "source": [
        "cnn.metrics_names"
      ],
      "execution_count": 0,
      "outputs": []
    },
    {
      "cell_type": "code",
      "metadata": {
        "id": "YypvHrCm-3fQ",
        "colab_type": "code",
        "colab": {}
      },
      "source": [
        "cnn.evaluate_generator(test_set)"
      ],
      "execution_count": 0,
      "outputs": []
    },
    {
      "cell_type": "markdown",
      "metadata": {
        "id": "ggpTFMvW-3fS",
        "colab_type": "text"
      },
      "source": [
        "# Prediction matrix"
      ]
    },
    {
      "cell_type": "code",
      "metadata": {
        "id": "rUoyNSta-3fS",
        "colab_type": "code",
        "colab": {}
      },
      "source": [
        "pred_probabilities = cnn.predict_generator(test_set) # model assigns a probability for each image in test set\n",
        "predictions = pred_probabilities > 0.5 # remember that 1 is pneu and 0 is norm"
      ],
      "execution_count": 0,
      "outputs": []
    },
    {
      "cell_type": "markdown",
      "metadata": {
        "id": "_GRpJnHN-3fU",
        "colab_type": "text"
      },
      "source": [
        "# Evaluation Statistics"
      ]
    },
    {
      "cell_type": "markdown",
      "metadata": {
        "id": "rkXNPx4i-3fV",
        "colab_type": "text"
      },
      "source": [
        "# from sklearn.metrics import classification_report,confusion_matrix"
      ]
    },
    {
      "cell_type": "markdown",
      "metadata": {
        "id": "zGj6FiRg-3fV",
        "colab_type": "text"
      },
      "source": [
        "## Classification Report\n",
        "https://scikit-learn.org/stable/modules/generated/sklearn.metrics.classification_report.html\n",
        "\n",
        "Basically, the higher the precision, the better it is"
      ]
    },
    {
      "cell_type": "code",
      "metadata": {
        "id": "qE3Bd-y6x69a",
        "colab_type": "code",
        "colab": {}
      },
      "source": [
        "from sklearn.metrics import classification_report,confusion_matrix"
      ],
      "execution_count": 0,
      "outputs": []
    },
    {
      "cell_type": "code",
      "metadata": {
        "id": "dKvwdIEY-3fW",
        "colab_type": "code",
        "colab": {}
      },
      "source": [
        "print(classification_report(test_set.classes,predictions))"
      ],
      "execution_count": 0,
      "outputs": []
    },
    {
      "cell_type": "markdown",
      "metadata": {
        "id": "HycetaF5-3fY",
        "colab_type": "text"
      },
      "source": [
        "## Confusion Matrix\n",
        "https://www.dataschool.io/simple-guide-to-confusion-matrix-terminology/ \n",
        "- the higher the values that correspond with a corresponding identity matrix, the better the classification"
      ]
    },
    {
      "cell_type": "code",
      "metadata": {
        "id": "Wkvf5Iex-3fZ",
        "colab_type": "code",
        "colab": {}
      },
      "source": [
        "confusion_matrix(test_set.classes,predictions)"
      ],
      "execution_count": 0,
      "outputs": []
    },
    {
      "cell_type": "markdown",
      "metadata": {
        "id": "Hj900pHd-3fc",
        "colab_type": "text"
      },
      "source": [
        "# Prediction"
      ]
    },
    {
      "cell_type": "code",
      "metadata": {
        "id": "dw-FHFq8-3fc",
        "colab_type": "code",
        "colab": {}
      },
      "source": [
        "from random import randrange # we are going to randomly select from the pool of test images\n",
        "from tensorflow.keras.preprocessing import image # to deal with images"
      ],
      "execution_count": 0,
      "outputs": []
    },
    {
      "cell_type": "markdown",
      "metadata": {
        "id": "3sMsY_q2-3fe",
        "colab_type": "text"
      },
      "source": [
        "**Predicting pneumonia patient**"
      ]
    },
    {
      "cell_type": "code",
      "metadata": {
        "id": "JCspk43E-3ff",
        "colab_type": "code",
        "colab": {}
      },
      "source": [
        "pnu_patient2 = test_path+'/PNEUMONIA/'+os.listdir(test_path+'/PNEUMONIA')[randrange(389)]"
      ],
      "execution_count": 0,
      "outputs": []
    },
    {
      "cell_type": "code",
      "metadata": {
        "id": "s67pLXsz-3fh",
        "colab_type": "code",
        "colab": {}
      },
      "source": [
        "# convert image file to vector to read from model\n",
        "my_image = image.load_img(pnu_patient2, color_mode = 'grayscale', target_size=image_shape) # pillow module\n",
        "type(my_image) # PIL.Image.Image type\n",
        "\n",
        "# change PIL.Image.Image type to numpy array of size (64, 64, 1)\n",
        "my_image=image.img_to_array(my_image) # numpy.ndarray type\n",
        "my_image.shape # (64, 64, 1)\n",
        "\n",
        "# change dim (64, 64, 1) to (1, 64, 64, 1)\n",
        "my_image = np.expand_dims(my_image, axis=0) # convert to (1, 64, 64, 1)\n",
        "my_image.shape # (1, 64, 64, 1)\n",
        "\n",
        "# the above image.shape shows how the vector shape changes with each transform we apply "
      ],
      "execution_count": 0,
      "outputs": []
    },
    {
      "cell_type": "code",
      "metadata": {
        "id": "AMC0bzWf-3fj",
        "colab_type": "code",
        "colab": {}
      },
      "source": [
        "cnn.predict(my_image)"
      ],
      "execution_count": 0,
      "outputs": []
    },
    {
      "cell_type": "markdown",
      "metadata": {
        "id": "gi0IG-Hk-3fl",
        "colab_type": "text"
      },
      "source": [
        "**Predicting normal patient**"
      ]
    },
    {
      "cell_type": "code",
      "metadata": {
        "id": "v6yUB9Kw-3fm",
        "colab_type": "code",
        "colab": {}
      },
      "source": [
        "norm_patient2 = test_path+'/NORMAL/'+os.listdir(test_path+'/NORMAL')[randrange(233)]"
      ],
      "execution_count": 0,
      "outputs": []
    },
    {
      "cell_type": "code",
      "metadata": {
        "id": "As5eEbQj-3fp",
        "colab_type": "code",
        "colab": {}
      },
      "source": [
        "my_image2 = image.load_img(norm_patient2, color_mode = 'grayscale', target_size=image_shape) # pillow module\n",
        "my_image2=image.img_to_array(my_image2) # numpy.ndarray type\n",
        "my_image2 = np.expand_dims(my_image2, axis=0) # convert to (1, 64, 64, 1)"
      ],
      "execution_count": 0,
      "outputs": []
    },
    {
      "cell_type": "code",
      "metadata": {
        "id": "5uorXKY9-3fr",
        "colab_type": "code",
        "colab": {}
      },
      "source": [
        "cnn.predict(my_image2)"
      ],
      "execution_count": 0,
      "outputs": []
    },
    {
      "cell_type": "code",
      "metadata": {
        "id": "GQSKZ0Ka-3fw",
        "colab_type": "code",
        "colab": {}
      },
      "source": [
        "training_set.class_indices"
      ],
      "execution_count": 0,
      "outputs": []
    },
    {
      "cell_type": "code",
      "metadata": {
        "id": "0lsefUS0-3fy",
        "colab_type": "code",
        "colab": {}
      },
      "source": [
        "test_set.class_indices"
      ],
      "execution_count": 0,
      "outputs": []
    },
    {
      "cell_type": "markdown",
      "metadata": {
        "id": "Btd4ZkG7-3f0",
        "colab_type": "text"
      },
      "source": [
        "# Thoughts and Feedback\n",
        "\n",
        "## Thoughts\n",
        "- the loss curves looks like crap\n",
        "- I don't understand why its 3 colour channels when its a 8bitdepth black white image \n",
        "    - fixed: we must specify color_mode = 'grayscale' in these functions: 1. img_gen.flow_from_directory, 2. image.load_img\n",
        "\n",
        "## Future actionables:\n",
        "- Data related: \n",
        "    - include more xray data (combining data sets from RSNA pneumonia detection challenge: https://www.kaggle.com/c/rsna-pneumonia-detection-challenge/data) \n",
        "    - split pneumonia data into bacterial and viral infection (more applicable to current coronavirus situation), also, can we find coronavirus xray images?\n",
        "    - can we reduce to 1 colour channel if it is indeed a black and white image?\n",
        "        - yes, refer to above\n",
        "    - how much can we increase the resolution in data processing (image_shape) before training becomes too intensive?\n",
        "    - can we split into 3 targets - bacteria, virus, normal?\n",
        "\n",
        "- Model related: \n",
        "    - study what others have done, especially from the notebooks of those found in the link at the intro of this notebook\n",
        "    - what are the key parameters to experiment on? can we have a systematic way to test most of the parameters, split the workload between those with desktop GPUs and compare scores?\n",
        "    \n",
        "    \n",
        "## Suggestions and Ideas\n",
        "- Autoencoders\n",
        "    - Mark has an idea to use autoencoders to check the \"cloudiness\" of the lungs, since a visual comparison of images yields this feature. Even if we can't, maybe we can leverage on this for our feature engineering to tease out during our convolution/pooling steps\n",
        "    \n",
        "- application\n",
        "    - can we use a website to feed an xray image and check with our model to make a prediction for healthcare industry to use? "
      ]
    },
    {
      "cell_type": "code",
      "metadata": {
        "id": "6TAUN6wi2V2j",
        "colab_type": "code",
        "colab": {}
      },
      "source": [
        ""
      ],
      "execution_count": 0,
      "outputs": []
    }
  ]
}